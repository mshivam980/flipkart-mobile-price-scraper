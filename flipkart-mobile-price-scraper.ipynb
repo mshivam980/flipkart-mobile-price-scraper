{
 "cells": [
  {
   "cell_type": "code",
   "execution_count": 106,
   "id": "71957ede-f871-4ab0-8ef5-986ff45581df",
   "metadata": {},
   "outputs": [],
   "source": [
    "import requests\n",
    "from bs4 import BeautifulSoup\n",
    "import pandas as pd\n",
    "import os"
   ]
  },
  {
   "cell_type": "code",
   "execution_count": 133,
   "id": "ac8c1302-f3ad-49ef-90c7-7e147b20213e",
   "metadata": {},
   "outputs": [],
   "source": [
    "# Function to scrape data from Flipkart\n",
    "def scrape_flipkart_mobiles(pages=4):\n",
    "    \"\"\"Scrape mobile phones data from Flipkart within a price range and save to CSV.\"\"\"\n",
    "    # Data containers\n",
    "    product_name, prices, description, reviews = [], [], [], []\n",
    "\n",
    "    for page in range(1, pages + 1):\n",
    "        url = f\"https://www.flipkart.com/search?q=mobile+under+50000&otracker=search&marketplace=FLIPKART&as-show=on&page={page}\"\n",
    "        response = requests.get(url)\n",
    "        soup = BeautifulSoup(response.text, 'lxml')\n",
    "\n",
    "        # Locate the container with product information\n",
    "        section = soup.find('div', class_='DOjaWF gdgoEp')\n",
    "        if not section:\n",
    "            print(f\"Failed to retrieve products on page {page}. Skipping.\")\n",
    "            continue\n",
    "\n",
    "        # Product names\n",
    "        names = section.find_all('div', class_='KzDlHZ')\n",
    "        product_name.extend([name.text.strip() for name in names])\n",
    "\n",
    "        # Prices\n",
    "        price_elements = section.find_all('div', class_='Nx9bqj _4b5DiR')\n",
    "        prices.extend([price.text.strip()[1:] for price in price_elements])\n",
    "\n",
    "        # Descriptions\n",
    "        desc_elements = section.find_all('ul', class_='G4BRas')\n",
    "        description.extend([desc.text.strip() for desc in desc_elements])\n",
    "\n",
    "        # Reviews\n",
    "        review_elements = section.find_all('div', class_='XQDdHH')\n",
    "        reviews.extend([review.text.strip() for review in review_elements])\n",
    "\n",
    "    # Create a DataFrame from the scraped data\n",
    "    data = pd.DataFrame({\n",
    "        \"Product Name\": product_name,\n",
    "        \"Product Price\": prices,\n",
    "        \"Product Description\": description,\n",
    "        \"Product Reviews\": reviews\n",
    "    })\n",
    "    # Ensure output directory exists\n",
    "    os.makedirs(\"output\", exist_ok=True)\n",
    "    output_path = \"output/Flipkart_Mobile_Under_50000.csv\"\n",
    "    data.to_csv(output_path, index=False)\n",
    "    print(f\"Scraped data saved to {output_path}\")\n",
    "    return data"
   ]
  },
  {
   "cell_type": "code",
   "execution_count": 134,
   "id": "5b37a15e-1bd8-4151-a196-d2beb57f0bd4",
   "metadata": {},
   "outputs": [
    {
     "name": "stdout",
     "output_type": "stream",
     "text": [
      "Scraped data saved to output/Flipkart_Mobile_Under_50000.csv\n"
     ]
    }
   ],
   "source": [
    "# Run scraper if executed within Jupyter\n",
    "if __name__ == \"__main__\":\n",
    "    scrape_flipkart_mobiles()"
   ]
  }
 ],
 "metadata": {
  "kernelspec": {
   "display_name": "Python 3 (ipykernel)",
   "language": "python",
   "name": "python3"
  },
  "language_info": {
   "codemirror_mode": {
    "name": "ipython",
    "version": 3
   },
   "file_extension": ".py",
   "mimetype": "text/x-python",
   "name": "python",
   "nbconvert_exporter": "python",
   "pygments_lexer": "ipython3",
   "version": "3.11.7"
  }
 },
 "nbformat": 4,
 "nbformat_minor": 5
}
